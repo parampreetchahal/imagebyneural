{
 "cells": [
  {
   "cell_type": "code",
   "execution_count": 1,
   "id": "4ff901cd-adee-4972-abfe-b8bbb2b29488",
   "metadata": {},
   "outputs": [],
   "source": [
    "import numpy as np\n",
    "import matplotlib.pyplot as plt\n",
    "import random"
   ]
  },
  {
   "cell_type": "code",
   "execution_count": 2,
   "id": "a77cc658-4f24-4606-8dd2-57acebf99f13",
   "metadata": {},
   "outputs": [],
   "source": [
    "X_train=np.loadtxt('train_X.csv',delimiter=',').T\n",
    "Y_train=np.loadtxt('train_label.csv',delimiter=',').T\n",
    "\n",
    "X_test=np.loadtxt('test_X.csv',delimiter=',').T\n",
    "Y_test=np.loadtxt('test_label.csv',delimiter=',').T"
   ]
  },
  {
   "cell_type": "code",
   "execution_count": 3,
   "id": "8998e709-6c98-4ed1-9f32-602e1eb2c5c7",
   "metadata": {},
   "outputs": [
    {
     "name": "stdout",
     "output_type": "stream",
     "text": [
      "shape of X_train:  (784, 1000)\n",
      "shape of Y_train:  (10, 1000)\n",
      "shape of X_test:  (784, 350)\n",
      "shape of X_train:  (10, 350)\n"
     ]
    }
   ],
   "source": [
    "print(\"shape of X_train: \",X_train.shape)\n",
    "print(\"shape of Y_train: \",Y_train.shape)\n",
    "print(\"shape of X_test: \",X_test.shape)\n",
    "print(\"shape of X_train: \",Y_test.shape)"
   ]
  },
  {
   "cell_type": "code",
   "execution_count": 4,
   "id": "aa86ead3-241d-43ad-ad53-e25c89a530f2",
   "metadata": {},
   "outputs": [
    {
     "data": {
      "text/plain": [
       "<matplotlib.image.AxesImage at 0x15d8d6190d0>"
      ]
     },
     "execution_count": 4,
     "metadata": {},
     "output_type": "execute_result"
    },
    {
     "data": {
      "image/png": "[encoded data removed]",
      "text/plain": [
       "<Figure size 640x480 with 1 Axes>"
      ]
     },
     "metadata": {},
     "output_type": "display_data"
    }
   ],
   "source": [
    "index=random.randrange(0,X_train.shape[1])\n",
    "plt.imshow(X_train[:,index].reshape(28,28),cmap='gray')\n",
    "                                   "
   ]
  },
  {
   "cell_type": "markdown",
   "id": "097dd5e8-1bac-4e16-9e6f-026f671f304d",
   "metadata": {},
   "source": [
    "## project"
   ]
  },
  {
   "cell_type": "code",
   "execution_count": 5,
   "id": "bef8d8cc-1871-4d28-baf0-8f4bfe8611bf",
   "metadata": {},
   "outputs": [],
   "source": [
    "def tanh(x):\n",
    "    return np.tanh(x)\n",
    "\n",
    "def relu(x):\n",
    "    return np.maximum(x,0)\n",
    "\n",
    "def softmax(x):\n",
    "    expX=np.exp(x)\n",
    "    return expX/np.sum(expX,axis=0)"
   ]
  },
  {
   "cell_type": "code",
   "execution_count": 6,
   "id": "97bb415f-f843-43f2-b445-c26d633d3aaf",
   "metadata": {},
   "outputs": [],
   "source": [
    "def derivative_tanh(x):\n",
    "    return (1-np.power(np.tanh(x),2))\n",
    "\n",
    "def derivative_relu(x):\n",
    "    return np.array(x>0,dtype=np.float32)"
   ]
  },
  {
   "cell_type": "markdown",
   "id": "2f41208d-6068-4242-abce-8d8b94f4a7dd",
   "metadata": {},
   "source": [
    "## intialization ther parameter"
   ]
  },
  {
   "cell_type": "code",
   "execution_count": 7,
   "id": "190d47d9-8746-4b25-b2e4-bc62bfd1a98f",
   "metadata": {},
   "outputs": [],
   "source": [
    "def initialize_parameters(n_x, n_h, n_y):\n",
    "    w1 = np.random.randn(n_h, n_x)*0.01\n",
    "    b1 = np.zeros((n_h, 1))\n",
    "    \n",
    "    w2 = np.random.randn(n_y, n_h)*0.01\n",
    "    b2 = np.zeros((n_y, 1))\n",
    "    \n",
    "    parameters = {\n",
    "        \"w1\" : w1,\n",
    "        \"b1\" : b1,\n",
    "        \"w2\" : w2,\n",
    "        \"b2\" : b2\n",
    "    }\n",
    "    \n",
    "    return parameters\n",
    "\n"
   ]
  },
  {
   "cell_type": "markdown",
   "id": "9020853c-0d99-4082-bca4-b5d7c704388e",
   "metadata": {},
   "source": [
    "## forward progation: "
   ]
  },
  {
   "cell_type": "code",
   "execution_count": 8,
   "id": "f6cbe991-7025-4216-9c8a-1e7e4a258350",
   "metadata": {},
   "outputs": [],
   "source": [
    "def forward_pro(x,parameters):\n",
    "    w1=parameters['w1']\n",
    "    b1=parameters['b1']\n",
    "    w2=parameters['w2']\n",
    "    b2=parameters['b2']\n",
    "\n",
    "    z1=np.dot(w1,x)+b1\n",
    "    a1=tanh(z1)\n",
    "\n",
    "    z2=np.dot(w2,a1)+b2\n",
    "    a2=softmax(z2)\n",
    "\n",
    "    forward_cache={\n",
    "        \"z1\" : z1,\n",
    "        \"a1\" : a1,\n",
    "        \"z2\" : z2,\n",
    "        \"a2\" : a2\n",
    "    }\n",
    "    return forward_cache\n",
    "    "
   ]
  },
  {
   "cell_type": "markdown",
   "id": "7c8c99ea-e061-4ad8-8424-5a3e96125015",
   "metadata": {},
   "source": [
    "## cost Function"
   ]
  },
  {
   "cell_type": "code",
   "execution_count": 9,
   "id": "79310148-6f2e-4fc3-bf78-61453eaa257a",
   "metadata": {},
   "outputs": [],
   "source": [
    "def cost_function(a2,y):\n",
    "    m=y.shape[1]\n",
    "    cost=-(1/m)*np.sum(y*np.log(a2))\n",
    "    #cost= -(1/m)*np.sum(np.sum(y*np.log(a2,0),1))\n",
    "    return cost"
   ]
  },
  {
   "cell_type": "markdown",
   "id": "fb03012a-6266-4972-8bf1-abc13758c902",
   "metadata": {},
   "source": [
    "## backward Propagation"
   ]
  },
  {
   "cell_type": "code",
   "execution_count": 10,
   "id": "b5a6cc67-0b1f-4129-99b0-43966bf03469",
   "metadata": {},
   "outputs": [],
   "source": [
    "def backward_pro(x,y,parameters,forward_cache):\n",
    "    w1=parameters['w1']\n",
    "    b1=parameters['b1']\n",
    "    w2=parameters['w2']\n",
    "    b2=parameters['b2']\n",
    "\n",
    "    a1=forward_cache['a1']\n",
    "    a2=forward_cache['a2']\n",
    "\n",
    "    m=x.shape[1]\n",
    "\n",
    "    dz2=(a2-y)\n",
    "    dw2=(1/m)*np.dot(dz2,a1.T)\n",
    "    db2=(1/m)*np.sum(dz2,axis=1,keepdims=True)\n",
    "\n",
    "    dz1=(1/m)*np.dot(w2.T,dz2)*derivative_relu(a1)\n",
    "    dw1=(1/m)*np.dot(dz1,x.T)\n",
    "    db1=(1/m)*np.sum(dz1,axis=1,keepdims=True)\n",
    "\n",
    "    gradients={\n",
    "        \"dw1\" : dw1,\n",
    "        \"db1\" : db1,\n",
    "        \"db2\" : db2,\n",
    "        \"dw2\" : dw2\n",
    "    }\n",
    "\n",
    "    return gradients\n"
   ]
  },
  {
   "cell_type": "markdown",
   "id": "6c9835a2-6912-4127-a46a-50054ed54d39",
   "metadata": {},
   "source": [
    "## Upadate Parameter"
   ]
  },
  {
   "cell_type": "code",
   "execution_count": 11,
   "id": "63c39580-ee62-4930-811b-d04d64b68376",
   "metadata": {},
   "outputs": [],
   "source": [
    "def update_parameters(parameters,gradients,learning_rate):\n",
    "\n",
    "    w1=parameters['w1']\n",
    "    b1=parameters['b1']\n",
    "    w2=parameters['w2']\n",
    "    b2=parameters['b2']\n",
    "\n",
    "    dw1=gradients['dw1']\n",
    "    db1=gradients['db1']\n",
    "    dw2=gradients['dw2']\n",
    "    db2=gradients['db2']\n",
    "\n",
    "    w1=w1-learning_rate*dw1\n",
    "    b1=b1-learning_rate*db1\n",
    "    w2=w2-learning_rate*dw2\n",
    "    b2=b2-learning_rate*db2\n",
    "\n",
    "    parameters={\n",
    "        \"w1\" : w1,\n",
    "        \"b1\" : b1,\n",
    "        \"w2\" : w2,\n",
    "        \"b2\" : b2\n",
    "    }\n",
    "\n",
    "    return parameters"
   ]
  },
  {
   "cell_type": "markdown",
   "id": "e2cce779-00cc-46ea-8cee-f9806bf210ac",
   "metadata": {},
   "source": [
    "## Complete Model"
   ]
  },
  {
   "cell_type": "code",
   "execution_count": 12,
   "id": "f69b6039-4326-4369-b3b9-2c80d43bb0a9",
   "metadata": {},
   "outputs": [],
   "source": [
    "def model(x,y,n_h,learning_rate,iterations):\n",
    "    n_x=x.shape[0]\n",
    "    n_y=y.shape[0]\n",
    "\n",
    "    cost_list=[]\n",
    "    \n",
    "    parameters=initialize_parameters(n_x,n_h,n_y)\n",
    "\n",
    "    for i in range(iterations):\n",
    "        forward_cache=forward_pro(x,parameters)\n",
    "        cost =cost_function(forward_cache['a2'],y)\n",
    "        gradients=backward_pro(x,y,parameters,forward_cache)\n",
    "        parameters=update_parameters(parameters,gradients,learning_rate)\n",
    "        cost_list.append(cost)\n",
    "        if(i%(iterations/10)==0):\n",
    "            print(\"cost after\",i,\"iterations is: \",cost)\n",
    "\n",
    "    return parameters,cost_list"
   ]
  },
  {
   "cell_type": "code",
   "execution_count": 13,
   "id": "310892fb-12f3-48c3-8484-1670fb7e2d39",
   "metadata": {},
   "outputs": [
    {
     "name": "stdout",
     "output_type": "stream",
     "text": [
      "cost after 0 iterations is:  2.338116984902653\n",
      "cost after 10 iterations is:  2.1345268132648387\n",
      "cost after 20 iterations is:  1.9636033989235457\n",
      "cost after 30 iterations is:  1.8181170003462586\n",
      "cost after 40 iterations is:  1.693239244053185\n",
      "cost after 50 iterations is:  1.5851868186496558\n",
      "cost after 60 iterations is:  1.4909856203232592\n",
      "cost after 70 iterations is:  1.4083004803100811\n",
      "cost after 80 iterations is:  1.3352749074707286\n",
      "cost after 90 iterations is:  1.2704132142923503\n"
     ]
    }
   ],
   "source": [
    "iterations=100\n",
    "n_h=1000\n",
    "learning_rate=0.002\n",
    "Parameters,Cost_list=model(X_train,Y_train,n_h=n_h,learning_rate=learning_rate,iterations=iterations)"
   ]
  },
  {
   "cell_type": "code",
   "execution_count": 14,
   "id": "d6a41326-110a-4ec3-868f-0a2a1109184f",
   "metadata": {},
   "outputs": [
    {
     "data": {
      "image/png": "[encoded data removed]",
      "text/plain": [
       "<Figure size 640x480 with 1 Axes>"
      ]
     },
     "metadata": {},
     "output_type": "display_data"
    }
   ],
   "source": [
    "t=np.arange(0,iterations)\n",
    "plt.plot(t,Cost_list)\n",
    "plt.show()"
   ]
  },
  {
   "cell_type": "code",
   "execution_count": 15,
   "id": "70cf86ef-4aa8-4289-8869-6d3d3e8f348f",
   "metadata": {},
   "outputs": [],
   "source": [
    "def accuracy(inp, labels, parameters):\n",
    "    forward_cache = forward_pro(inp, parameters)\n",
    "    a_out = forward_cache['a2']   # containes propabilities with shape(10, 1)\n",
    "    \n",
    "    a_out = np.argmax(a_out, 0)  # 0 represents row wise \n",
    "    \n",
    "    labels = np.argmax(labels, 0)\n",
    "    \n",
    "    acc = np.mean(a_out == labels)*100\n",
    "    \n",
    "    return acc"
   ]
  },
  {
   "cell_type": "code",
   "execution_count": 16,
   "id": "b4d9f0fa-ae1f-4c3d-97c4-59cd3a6ae231",
   "metadata": {},
   "outputs": [
    {
     "name": "stdout",
     "output_type": "stream",
     "text": [
      "Accuracy of Train Dataset 79.10000000000001 %\n",
      "Accuracy of Test Dataset 75.43 %\n"
     ]
    }
   ],
   "source": [
    "print(\"Accuracy of Train Dataset\", accuracy(X_train, Y_train, Parameters), \"%\")\n",
    "print(\"Accuracy of Test Dataset\", round(accuracy(X_test, Y_test, Parameters), 2), \"%\")"
   ]
  },
  {
   "cell_type": "code",
   "execution_count": 18,
   "id": "43fdb249-bdfc-45a0-87ee-2dbb0e9fe983",
   "metadata": {},
   "outputs": [
    {
     "data": {
      "image/png": "[encoded data removed]",
      "text/plain": [
       "<Figure size 640x480 with 1 Axes>"
      ]
     },
     "metadata": {},
     "output_type": "display_data"
    },
    {
     "name": "stdout",
     "output_type": "stream",
     "text": [
      "Our model says it is : 3\n"
     ]
    }
   ],
   "source": [
    "idx = int(random.randrange(0,X_test.shape[1]))\n",
    "plt.imshow(X_test[:, idx].reshape((28,28)),cmap='gray')\n",
    "plt.show()\n",
    "\n",
    "cache = forward_pro(X_test[:, idx].reshape(X_test[:, idx].shape[0], 1), Parameters)\n",
    "a_pred = cache['a2']  \n",
    "a_pred = np.argmax(a_pred, 0)\n",
    "\n",
    "print(\"Our model says it is :\", a_pred[0])"
   ]
  },
  {
   "cell_type": "code",
   "execution_count": null,
   "id": "e366432d-076e-44ab-a23f-ef78c752225e",
   "metadata": {},
   "outputs": [],
   "source": []
  }
 ],
 "metadata": {
  "kernelspec": {
   "display_name": "Python 3 (ipykernel)",
   "language": "python",
   "name": "python3"
  },
  "language_info": {
   "codemirror_mode": {
    "name": "ipython",
    "version": 3
   },
   "file_extension": ".py",
   "mimetype": "text/x-python",
   "name": "python",
   "nbconvert_exporter": "python",
   "pygments_lexer": "ipython3",
   "version": "3.11.7"
  }
 },
 "nbformat": 4,
 "nbformat_minor": 5
}
